{
  "nbformat": 4,
  "nbformat_minor": 0,
  "metadata": {
    "colab": {
      "provenance": []
    },
    "kernelspec": {
      "name": "python3",
      "display_name": "Python 3"
    },
    "language_info": {
      "name": "python"
    }
  },
  "cells": [
    {
      "cell_type": "code",
      "execution_count": 1,
      "metadata": {
        "colab": {
          "base_uri": "https://localhost:8080/"
        },
        "id": "rR8Fw7MMdxKF",
        "outputId": "e9f25c43-700f-4c38-ee48-aefd78921591"
      },
      "outputs": [
        {
          "output_type": "stream",
          "name": "stdout",
          "text": [
            "/usr/local/lib/python3.10/dist-packages/gdown/__main__.py:140: FutureWarning: Option `--id` was deprecated in version 4.3.1 and will be removed in 5.0. You don't need to pass it anymore to use a file ID.\n",
            "  warnings.warn(\n",
            "Downloading...\n",
            "From (original): https://drive.google.com/uc?id=1Lk7C8KFVFrhmy8fiNQ0F1BWHunuxh0-K\n",
            "From (redirected): https://drive.google.com/uc?id=1Lk7C8KFVFrhmy8fiNQ0F1BWHunuxh0-K&confirm=t&uuid=53065ec1-8951-4451-8048-1581fe980f10\n",
            "To: /content/data/CLEVR_sample_10_000.tar.gz\n",
            "100% 2.68G/2.68G [00:31<00:00, 84.1MB/s]\n"
          ]
        }
      ],
      "source": [
        "#Dataset de 10.000 imágenes:\n",
        "!gdown --id 1Lk7C8KFVFrhmy8fiNQ0F1BWHunuxh0-K -O data/"
      ]
    },
    {
      "cell_type": "code",
      "source": [
        "#Dataset  de 5.000 imágenes:\n",
        "!gdown --id 1FdbelXfT9sAYmovvoFWBQSD-kPQ9OEMy -O data/"
      ],
      "metadata": {
        "colab": {
          "base_uri": "https://localhost:8080/"
        },
        "id": "c8Q7wzs8eTcv",
        "outputId": "ed93bf33-7687-4572-865f-1c5b97013b5f"
      },
      "execution_count": 2,
      "outputs": [
        {
          "output_type": "stream",
          "name": "stdout",
          "text": [
            "/usr/local/lib/python3.10/dist-packages/gdown/__main__.py:140: FutureWarning: Option `--id` was deprecated in version 4.3.1 and will be removed in 5.0. You don't need to pass it anymore to use a file ID.\n",
            "  warnings.warn(\n",
            "Downloading...\n",
            "From (original): https://drive.google.com/uc?id=1FdbelXfT9sAYmovvoFWBQSD-kPQ9OEMy\n",
            "From (redirected): https://drive.google.com/uc?id=1FdbelXfT9sAYmovvoFWBQSD-kPQ9OEMy&confirm=t&uuid=7dbf91a0-596e-4912-b406-37d3268a2ec9\n",
            "To: /content/data/CLEVR_sample_5_000.tar.gz\n",
            "100% 1.33G/1.33G [00:14<00:00, 92.4MB/s]\n"
          ]
        }
      ]
    }
  ]
}